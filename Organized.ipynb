{
 "cells": [
  {
   "cell_type": "markdown",
   "id": "dad25ba6-4c77-42e8-b3dd-2bf0db80cac7",
   "metadata": {},
   "source": [
    "### Importing the libraries"
   ]
  },
  {
   "cell_type": "code",
   "execution_count": 1,
   "id": "42c264c6-7b6c-45c5-9d37-66a3cceef332",
   "metadata": {},
   "outputs": [],
   "source": [
    "from langchain.document_loaders import TextLoader\n",
    "from langchain.text_splitter import RecursiveCharacterTextSplitter\n",
    "from langchain.document_loaders import DirectoryLoader\n",
    "from langchain.text_splitter import RecursiveCharacterTextSplitter\n",
    "from langchain.embeddings import OpenAIEmbeddings\n",
    "from langchain.vectorstores import Chroma\n",
    "from langchain.chains import RetrievalQA\n",
    "from langchain.llms import OpenAI"
   ]
  },
  {
   "cell_type": "markdown",
   "id": "a6333ed6-2616-455e-81df-add859809d12",
   "metadata": {},
   "source": [
    "### Passing Open AI API Key"
   ]
  },
  {
   "cell_type": "code",
   "execution_count": 2,
   "id": "1441e03d-2529-4934-bb5c-fa69b12d1c8b",
   "metadata": {},
   "outputs": [
    {
     "name": "stdin",
     "output_type": "stream",
     "text": [
      "OpenAI API Key: ········\n"
     ]
    }
   ],
   "source": [
    "import getpass\n",
    "\n",
    "api_key = getpass.getpass('OpenAI API Key:')"
   ]
  },
  {
   "cell_type": "code",
   "execution_count": 3,
   "id": "bcee8e25-3cf4-4346-baa4-29b856c7af3e",
   "metadata": {},
   "outputs": [],
   "source": [
    "def split_doc(file):\n",
    "\n",
    "    loader = TextLoader(file,encoding='utf8')\n",
    "    docs = loader.load()\n",
    "\n",
    "    from langchain.text_splitter import RecursiveCharacterTextSplitter\n",
    "\n",
    "    chunk_size = 100\n",
    "\n",
    "    text_splitter = RecursiveCharacterTextSplitter(chunk_size=chunk_size, chunk_overlap=10)\n",
    "    texts = text_splitter.split_documents(docs)\n",
    "\n",
    "    n = len(texts)\n",
    "    while not (n>=3 and n<6):\n",
    "        chunk_size += 100\n",
    "        text_splitter = RecursiveCharacterTextSplitter(chunk_size=chunk_size, chunk_overlap=10)\n",
    "        texts = text_splitter.split_documents(docs)\n",
    "        n = len(texts)\n",
    "\n",
    "    k= 1\n",
    "    for i in range(0,n,2):\n",
    "            for j in range(i,i+2):\n",
    "                with open(f'./Data/Files/Krishna{k}.txt', 'a') as fp:\n",
    "                    if j<n:\n",
    "                        for item in (texts[j].page_content).split('\\n'):\n",
    "                            fp.write(\"%s\\n\" % item)\n",
    "            k += 1"
   ]
  },
  {
   "cell_type": "markdown",
   "id": "2859d46c-eaa1-46f3-8eae-ec6649a06c9f",
   "metadata": {},
   "source": [
    "### Split and load the document and then split it into chunks"
   ]
  },
  {
   "cell_type": "code",
   "execution_count": 4,
   "id": "b07b7dd9-7c8d-4c43-ba55-db0c29f4e5fc",
   "metadata": {},
   "outputs": [],
   "source": [
    "split_doc(r'./Data/Krishna.txt')\n",
    "\n",
    "loader = DirectoryLoader('./Data/Files',glob='**/*.txt')\n",
    "docs = loader.load()\n",
    "\n",
    "text_splitter = RecursiveCharacterTextSplitter(chunk_size=1000, chunk_overlap=10)\n",
    "texts = text_splitter.split_documents(docs)"
   ]
  },
  {
   "cell_type": "markdown",
   "id": "9b7304ee-a08e-40f9-99be-b30d658b9e3d",
   "metadata": {},
   "source": [
    "### Selecting the type of embedding to use & creating the VectoreStore"
   ]
  },
  {
   "cell_type": "code",
   "execution_count": 5,
   "id": "a68503f4-3903-4e52-a04a-47b6001672bd",
   "metadata": {},
   "outputs": [],
   "source": [
    "embeddings = OpenAIEmbeddings(openai_api_key=api_key,model=\"text-embedding-ada-002\")\n",
    "db = Chroma.from_documents(texts, embeddings)\n",
    "\n",
    "retriever = db.as_retriever()"
   ]
  },
  {
   "cell_type": "markdown",
   "id": "a4d6caf1-61c7-4bfd-8622-b4f46543853c",
   "metadata": {},
   "source": [
    "### Creating a chain to answer questions"
   ]
  },
  {
   "cell_type": "code",
   "execution_count": 7,
   "id": "4eb69cf8-f7ef-467d-8fff-e6b47446a33b",
   "metadata": {},
   "outputs": [],
   "source": [
    "qa = RetrievalQA.from_chain_type(llm=OpenAI(), chain_type=\"stuff\", retriever=retriever,return_source_documents=True)"
   ]
  },
  {
   "cell_type": "markdown",
   "id": "c01d47f8-3899-4cef-8498-0616765ad290",
   "metadata": {},
   "source": [
    "### Querying"
   ]
  },
  {
   "cell_type": "code",
   "execution_count": 8,
   "id": "d46f525e-87da-47af-931d-d7637bda24e7",
   "metadata": {},
   "outputs": [
    {
     "name": "stdin",
     "output_type": "stream",
     "text": [
      "Enter your question:  Who is Lord Krishna?\n"
     ]
    },
    {
     "data": {
      "text/plain": [
       "' Lord Krishna is the 8th incarnation of Vishnu and the God of peace and love. Many people worship Krishna, including my family. He is known for fighting off demons in his childhood, killing Kamsa, a wicked ruler, accompanying the Pandavas in their exile, and giving lessons to Arjuna, a Panadava before a war.'"
      ]
     },
     "execution_count": 8,
     "metadata": {},
     "output_type": "execute_result"
    }
   ],
   "source": [
    "question = input('Enter your question: ')\n",
    "output = qa(question)\n",
    "output['result']"
   ]
  },
  {
   "cell_type": "code",
   "execution_count": null,
   "id": "c8558135-b64e-443e-b498-93d92fd418d4",
   "metadata": {},
   "outputs": [],
   "source": []
  }
 ],
 "metadata": {
  "kernelspec": {
   "display_name": "novel_env",
   "language": "python",
   "name": "novel_env"
  },
  "language_info": {
   "codemirror_mode": {
    "name": "ipython",
    "version": 3
   },
   "file_extension": ".py",
   "mimetype": "text/x-python",
   "name": "python",
   "nbconvert_exporter": "python",
   "pygments_lexer": "ipython3",
   "version": "3.9.10"
  }
 },
 "nbformat": 4,
 "nbformat_minor": 5
}
