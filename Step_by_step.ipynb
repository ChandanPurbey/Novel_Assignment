{
 "cells": [
  {
   "cell_type": "markdown",
   "id": "99b0c5ee-cd61-454f-a9a0-acbd2c0f785b",
   "metadata": {},
   "source": [
    "## Use embeddings from OPENAI to embed any document of your choice.\n",
    "### Create atleast 3 different docs by splitting one document"
   ]
  },
  {
   "cell_type": "markdown",
   "id": "17c82d07-8850-4482-b448-50bf2d94998b",
   "metadata": {},
   "source": [
    "### Splitting documents is provided by text_splitter of langchain also, however As per my understanding,I am required to split the document into 3 different docs, so I have proceeeded that way."
   ]
  },
  {
   "cell_type": "markdown",
   "id": "a6119dca-354e-4ef7-97ed-4accb3771352",
   "metadata": {},
   "source": [
    "### 1. Loading the document"
   ]
  },
  {
   "cell_type": "code",
   "execution_count": 2,
   "id": "1ecbceff-2c9a-4141-a215-99831b519d92",
   "metadata": {},
   "outputs": [],
   "source": [
    "from langchain.document_loaders import TextLoader"
   ]
  },
  {
   "cell_type": "code",
   "execution_count": 3,
   "id": "1fe3e2f9-0fb5-4803-b805-5a3c32a2da62",
   "metadata": {},
   "outputs": [],
   "source": [
    "loader = TextLoader(r'./Data/Krishna.txt',encoding='utf8')\n",
    "docs = loader.load()"
   ]
  },
  {
   "cell_type": "markdown",
   "id": "6cdd11b4-ceab-4a5e-947e-735c62108105",
   "metadata": {},
   "source": [
    "### 2. Splitting the document into 3 or more documents"
   ]
  },
  {
   "cell_type": "code",
   "execution_count": 4,
   "id": "15859d59-419b-408d-9e89-b378246bd322",
   "metadata": {},
   "outputs": [],
   "source": [
    "from langchain.text_splitter import RecursiveCharacterTextSplitter\n",
    "\n",
    "chunk_size = 100\n",
    "\n",
    "text_splitter = RecursiveCharacterTextSplitter(chunk_size=chunk_size, chunk_overlap=10)\n",
    "texts = text_splitter.split_documents(docs)"
   ]
  },
  {
   "cell_type": "code",
   "execution_count": 5,
   "id": "cbd6e095-aa56-4025-b8ee-45625d410b4e",
   "metadata": {},
   "outputs": [
    {
     "data": {
      "text/plain": [
       "5"
      ]
     },
     "execution_count": 5,
     "metadata": {},
     "output_type": "execute_result"
    }
   ],
   "source": [
    "n = len(texts)\n",
    "while not (n>=3 and n<6):\n",
    "    chunk_size += 100\n",
    "    text_splitter = RecursiveCharacterTextSplitter(chunk_size=chunk_size, chunk_overlap=10)\n",
    "    texts = text_splitter.split_documents(docs)\n",
    "    n = len(texts)\n",
    "n"
   ]
  },
  {
   "cell_type": "code",
   "execution_count": 6,
   "id": "092b5cb3-7684-4f53-8ea5-0e06851aba9a",
   "metadata": {},
   "outputs": [
    {
     "data": {
      "text/plain": [
       "Document(page_content='Introduction\\n\\nLord Krishna is the 8th incarnation of Vishnu and the God of peace and\\nlove. Many people worship Krishna including my family. Since I was young, I\\nheard many stories of Krishna. I had always loved them and wanted to know more\\nabout them.\\nSince I worshipped Krishna, I was interested in what he had done and how\\nKrishna had done them. Krishna had done lots of things like he fought off demons\\nin his childhood, killed Kamsa, a wicked ruler, accompanied the Pandavas in their\\nexile, and gave lessons to Arjuna, a Panadava before a war.\\nI wondered, how was Krishna able to overcome all the things thrown at him?\\nHow did Krishna change the war at that time? What were the meanings behind all\\nof his stories? When Expert came around, I decided I would choose Lord Krishna\\nbecause I was already interested and wanted to know more.\\nEven though the teachings of Krishna are thousands of years old, Krishna’s\\nteachings about peace are still relevant to people in the 21st century. Krishna’s\\nteachings help people refrain from arguments and stay peaceful. Some of the\\nstories told about Krishna have his teachings in them and how they can be used.\\nThe stories also show how Krishna always did the right thing, even in hard times.\\n.\\n\\nChapter One: Krishna’s Birth', metadata={'source': './Data/Krishna.txt'})"
      ]
     },
     "execution_count": 6,
     "metadata": {},
     "output_type": "execute_result"
    }
   ],
   "source": [
    "texts[0]"
   ]
  },
  {
   "cell_type": "code",
   "execution_count": 7,
   "id": "12079c99-15ad-4e61-b90a-87097e9d1571",
   "metadata": {},
   "outputs": [
    {
     "name": "stdout",
     "output_type": "stream",
     "text": [
      "Done\n"
     ]
    }
   ],
   "source": [
    "k= 1\n",
    "for i in range(0,n,2):\n",
    "        for j in range(i,i+2):\n",
    "            with open(f'./Data/Files/Krishna{k}.txt', 'a') as fp:\n",
    "                if j<n:\n",
    "                    for item in (texts[j].page_content).split('\\n'):\n",
    "                        fp.write(\"%s\\n\" % item)\n",
    "        k += 1\n",
    "    \n",
    "print('Done') "
   ]
  },
  {
   "cell_type": "markdown",
   "id": "ae567709-3b79-4a47-9a27-644ee71d3b02",
   "metadata": {},
   "source": [
    "### 3. Loading again the 3 different documents created from the original document"
   ]
  },
  {
   "cell_type": "code",
   "execution_count": 8,
   "id": "e40dd48c-ce61-4119-a78a-216302cb3bf1",
   "metadata": {},
   "outputs": [],
   "source": [
    "from langchain.document_loaders import DirectoryLoader"
   ]
  },
  {
   "cell_type": "code",
   "execution_count": 9,
   "id": "8407b7ca-4fde-403d-8a50-6a88c584560c",
   "metadata": {},
   "outputs": [],
   "source": [
    "loader = DirectoryLoader('./Data/Files',glob='**/*.txt')\n",
    "docs = loader.load()"
   ]
  },
  {
   "cell_type": "markdown",
   "id": "24ebb860-09f8-4993-83cf-f18961f621bc",
   "metadata": {},
   "source": [
    "### 4. Split the documents into chunks"
   ]
  },
  {
   "cell_type": "code",
   "execution_count": 11,
   "id": "d9870da1-8cd2-4e9b-a86f-219f5ad6c64a",
   "metadata": {},
   "outputs": [],
   "source": [
    "from langchain.text_splitter import RecursiveCharacterTextSplitter\n",
    "text_splitter = RecursiveCharacterTextSplitter(chunk_size=1000, chunk_overlap=10)\n",
    "texts = text_splitter.split_documents(docs)"
   ]
  },
  {
   "cell_type": "markdown",
   "id": "425dcc29-7c6b-4bba-9b6f-904231a6f5c9",
   "metadata": {},
   "source": [
    "### 5. Passing Open AI API Key"
   ]
  },
  {
   "cell_type": "code",
   "execution_count": 12,
   "id": "e65f2fb0-63f6-48fb-a5c4-63fb5713ea89",
   "metadata": {},
   "outputs": [
    {
     "name": "stdin",
     "output_type": "stream",
     "text": [
      "OpenAI API Key: ········\n"
     ]
    }
   ],
   "source": [
    "import os\n",
    "import getpass\n",
    "\n",
    "api_key = getpass.getpass('OpenAI API Key:')"
   ]
  },
  {
   "cell_type": "markdown",
   "id": "cdb39f46-a8ee-4da2-854e-aee894d94821",
   "metadata": {},
   "source": [
    "### 6. Selecting the type of embedding to use"
   ]
  },
  {
   "cell_type": "code",
   "execution_count": 13,
   "id": "e9fcde28-e569-4e2a-b94a-1fc710e12809",
   "metadata": {},
   "outputs": [],
   "source": [
    "from langchain.embeddings import OpenAIEmbeddings\n",
    "embeddings = OpenAIEmbeddings(openai_api_key=api_key,model=\"text-embedding-ada-002\")"
   ]
  },
  {
   "cell_type": "markdown",
   "id": "643ec43d-8d2c-4bef-aea7-ac1b36da2fff",
   "metadata": {},
   "source": [
    "### 7. Creating the vectorstore to use as the index"
   ]
  },
  {
   "cell_type": "code",
   "execution_count": 14,
   "id": "b0dbda6a-c293-4ccd-8a4a-c6ec47b005f4",
   "metadata": {},
   "outputs": [],
   "source": [
    "from langchain.vectorstores import Chroma\n",
    "db = Chroma.from_documents(texts, embeddings)"
   ]
  },
  {
   "cell_type": "code",
   "execution_count": 15,
   "id": "e105788e-a8fc-4938-b454-4db89200181c",
   "metadata": {},
   "outputs": [],
   "source": [
    "retriever = db.as_retriever()"
   ]
  },
  {
   "cell_type": "markdown",
   "id": "d6a74ebd-c946-41b0-a253-9f46515c3bb4",
   "metadata": {},
   "source": [
    "### 8. Creating a chain and use it to answer questions"
   ]
  },
  {
   "cell_type": "code",
   "execution_count": 16,
   "id": "61471a76-51bb-4831-b6c4-72676e1d8da5",
   "metadata": {},
   "outputs": [],
   "source": [
    "from langchain.chains import RetrievalQA\n",
    "from langchain.llms import OpenAI"
   ]
  },
  {
   "cell_type": "code",
   "execution_count": 17,
   "id": "4c3ff5e7-24d8-4b82-8b4d-7dc90e74cf89",
   "metadata": {},
   "outputs": [],
   "source": [
    "qa = RetrievalQA.from_chain_type(llm=OpenAI(), chain_type=\"stuff\", retriever=retriever,return_source_documents=True)"
   ]
  },
  {
   "cell_type": "markdown",
   "id": "b4e80c86-8d95-4826-b638-997ab5590b9c",
   "metadata": {},
   "source": [
    "### 9. In-use Querying/Searching"
   ]
  },
  {
   "cell_type": "code",
   "execution_count": 19,
   "id": "133347e2-ab3d-4d3c-b341-d0632ff5aac8",
   "metadata": {},
   "outputs": [],
   "source": [
    "question = \"Where the town was located?\""
   ]
  },
  {
   "cell_type": "code",
   "execution_count": 20,
   "id": "5bafea00-1fb3-4f0a-9e73-8f822a882e4c",
   "metadata": {},
   "outputs": [],
   "source": [
    "output = qa(question)"
   ]
  },
  {
   "cell_type": "code",
   "execution_count": 21,
   "id": "82493f14-5d6d-46c1-8697-dd915d3732b5",
   "metadata": {},
   "outputs": [
    {
     "data": {
      "text/plain": [
       "{'query': 'Where the town was located?',\n",
       " 'result': ' Gokula.',\n",
       " 'source_documents': [Document(page_content='Introduction', metadata={'source': 'Data\\\\Files\\\\Krishna1.txt'}),\n",
       "  Document(page_content='Vishnu. Vishnu turned to Vasudeva and gave him orders. He said to take Krishna into a town in Gokula. He told him where the town was located and how to get to it. Vishnu continued and said that a newborn girl resided in that village. Yashoda, the mother of the baby girl, was asleep. Go there and switch Krishna and the girl. Then bring the baby girl back here to the dungeon. Vasudeva and Devaki again thanked Vishnu and then he left. Vasudeva’s chains magically came undone, and he rose to carry out the orders he had been given by Vishnu. Vasudeva put Krishna in a basket and covered him in a blanket. He did not know how a prisoner could get out of prison without permission, but a blue light flashed through the dungeon that left the gates open and guards asleep. Vasudeva walked out of the dungeon with Krishna in his hands and made his way to Gokula. On his way there, he came across a river. Rain was pouring down and Vasudeva did not know how to get across. He started to walk but no rain', metadata={'source': 'Data\\\\Files\\\\Krishna2.txt'}),\n",
       "  Document(page_content='no rain came on him, and the water parted at his feet so that only a trickle of water ran on his feet. The celestial serpent of Vishnu is said to have done this so Vasudeva could cross. Vasudeva reached the shore and started walking toward the village. He came to a house and entered. He saw the newborn girl next to her mother, Yashoda, who was asleep. He switched the babies, and returned to the dungeon with the baby girl. Right after Vasudeva returned to the dungeon with the girl, Kamsa entered,', metadata={'source': 'Data\\\\Files\\\\Krishna2.txt'}),\n",
       "  Document(page_content='fact, she was kind and generous. She was soon to marry Vasudeva, who was a kind man as well.', metadata={'source': 'Data\\\\Files\\\\Krishna1.txt'})]}"
      ]
     },
     "execution_count": 21,
     "metadata": {},
     "output_type": "execute_result"
    }
   ],
   "source": [
    "output"
   ]
  },
  {
   "cell_type": "code",
   "execution_count": 22,
   "id": "3f529950-923e-40f9-b3c7-59fe2e95b51c",
   "metadata": {},
   "outputs": [
    {
     "data": {
      "text/plain": [
       "' Gokula.'"
      ]
     },
     "execution_count": 22,
     "metadata": {},
     "output_type": "execute_result"
    }
   ],
   "source": [
    "output['result']"
   ]
  },
  {
   "cell_type": "code",
   "execution_count": 23,
   "id": "97a30739-5d86-4043-bb95-abe094d03d56",
   "metadata": {},
   "outputs": [
    {
     "name": "stdin",
     "output_type": "stream",
     "text": [
      "Enter your question:  Who was Arjuna?\n"
     ]
    },
    {
     "data": {
      "text/plain": [
       "\" Arjuna was a Pandava, a character in Hindu mythology, and one of Krishna's closest friends. Krishna gave lessons to Arjuna before a war.\""
      ]
     },
     "execution_count": 23,
     "metadata": {},
     "output_type": "execute_result"
    }
   ],
   "source": [
    "question = input('Enter your question: ')\n",
    "output = qa(question)\n",
    "output['result']"
   ]
  },
  {
   "cell_type": "code",
   "execution_count": 24,
   "id": "399576f3-9254-484e-a203-d42f11e81f1f",
   "metadata": {},
   "outputs": [
    {
     "data": {
      "text/plain": [
       "[Document(page_content='Lord Krishna is the 8th incarnation of Vishnu and the God of peace and love. Many people worship Krishna including my family. Since I was young, I heard many stories of Krishna. I had always loved them and wanted to know more about them. Since I worshipped Krishna, I was interested in what he had done and how Krishna had done them. Krishna had done lots of things like he fought off demons in his childhood, killed Kamsa, a wicked ruler, accompanied the Pandavas in their exile, and gave lessons to Arjuna, a Panadava before a war. I wondered, how was Krishna able to overcome all the things thrown at him? How did Krishna change the war at that time? What were the meanings behind all of his stories? When Expert came around, I decided I would choose Lord Krishna because I was already interested and wanted to know more. Even though the teachings of Krishna are thousands of years old, Krishna’s teachings about peace are still relevant to people in the 21st century. Krishna’s teachings help', metadata={'source': 'Data\\\\Files\\\\Krishna1.txt'}),\n",
       " Document(page_content='Chapter One: Krishna’s Birth Five thousand years ago, before Krishna was born, there was chaos on Earth. Kamsa, the king of the Yadavas clan, was a wicked ruler who sent waves of terror throughout the kingdom. The Yadava clan consisted of many different smaller clans, and they all obeyed Kamsa’s orders out of fear. Kamsa would burn down and destroy entire villages whenever he wished. People used to say that he was reincarnated from an evil demon. Mother Earth saw this and decided to go visit Vishnu and ask for help. Vishnu was known as the preserver and restored balance to the world. Mother Earth took the form of a cow and went to go visit Vishnu. She told Vishnu how Kamsa was destroying Earth, and asked for him to be born once again and vanquish evil, as he had done before. Vishnu happily agreed and Mother Earth left. Kamsa had a sister named Devaki. She was unaware of Kamsa’s actions, though their father knew what Kamsa was doing. Devaki was not evil as Kamsa was, and in fact, she', metadata={'source': 'Data\\\\Files\\\\Krishna1.txt'}),\n",
       " Document(page_content='fact, she was kind and generous. She was soon to marry Vasudeva, who was a kind man as well.', metadata={'source': 'Data\\\\Files\\\\Krishna1.txt'}),\n",
       " Document(page_content='Vishnu. Vishnu turned to Vasudeva and gave him orders. He said to take Krishna into a town in Gokula. He told him where the town was located and how to get to it. Vishnu continued and said that a newborn girl resided in that village. Yashoda, the mother of the baby girl, was asleep. Go there and switch Krishna and the girl. Then bring the baby girl back here to the dungeon. Vasudeva and Devaki again thanked Vishnu and then he left. Vasudeva’s chains magically came undone, and he rose to carry out the orders he had been given by Vishnu. Vasudeva put Krishna in a basket and covered him in a blanket. He did not know how a prisoner could get out of prison without permission, but a blue light flashed through the dungeon that left the gates open and guards asleep. Vasudeva walked out of the dungeon with Krishna in his hands and made his way to Gokula. On his way there, he came across a river. Rain was pouring down and Vasudeva did not know how to get across. He started to walk but no rain', metadata={'source': 'Data\\\\Files\\\\Krishna2.txt'})]"
      ]
     },
     "execution_count": 24,
     "metadata": {},
     "output_type": "execute_result"
    }
   ],
   "source": [
    "output['source_documents']"
   ]
  }
 ],
 "metadata": {
  "kernelspec": {
   "display_name": "novel_env",
   "language": "python",
   "name": "novel_env"
  },
  "language_info": {
   "codemirror_mode": {
    "name": "ipython",
    "version": 3
   },
   "file_extension": ".py",
   "mimetype": "text/x-python",
   "name": "python",
   "nbconvert_exporter": "python",
   "pygments_lexer": "ipython3",
   "version": "3.9.10"
  }
 },
 "nbformat": 4,
 "nbformat_minor": 5
}
